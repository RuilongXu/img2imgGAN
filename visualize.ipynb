{
 "cells": [
  {
   "cell_type": "markdown",
   "metadata": {},
   "source": [
    "# Toward Multimodal Image to Image Translation "
   ]
  },
  {
   "cell_type": "code",
   "execution_count": 1,
   "metadata": {},
   "outputs": [],
   "source": [
    "import tensorflow as tf\n",
    "import numpy as np\n",
    "from skimage import io\n",
    "import os\n",
    "import cv2\n",
    "import sys\n",
    "from scipy.misc import imread, imsave\n",
    "import matplotlib.pyplot as plt\n",
    "%matplotlib inline"
   ]
  },
  {
   "cell_type": "code",
   "execution_count": 2,
   "metadata": {
    "scrolled": true
   },
   "outputs": [
    {
     "name": "stdout",
     "output_type": "stream",
     "text": [
      "Edges2shoes   : Train:  49825 Val:  200\n",
      "Edges2handbags: Train: 138567 Val:  200\n",
      "Facades       : Train:    400 Val:  100\n",
      "Maps          : Train:   1096 Val: 1098\n"
     ]
    }
   ],
   "source": [
    "# List all the images for all the available datasets\n",
    "e2s = 'data/edges2shoes'\n",
    "e2h = 'data/edges2handbags'\n",
    "facades = 'data/facades/'\n",
    "maps = 'data/maps'\n",
    "\n",
    "e2s_train, e2s_val = os.listdir(os.path.join(e2s,'train')), os.listdir(os.path.join(e2s,'val'))\n",
    "e2h_train, e2h_val = os.listdir(os.path.join(e2h,'train')), os.listdir(os.path.join(e2h,'val'))\n",
    "fac_train, fac_val = os.listdir(os.path.join(facades,'train')), os.listdir(os.path.join(facades,'val'))\n",
    "map_train, map_val = os.listdir(os.path.join(maps,'train')), os.listdir(os.path.join(maps,'val'))\n",
    "\n",
    "e2s_tl, e2h_tl, fac_tl, map_tl = len(e2s_train), len(e2h_train), len(fac_train), len(map_train)\n",
    "\n",
    "print '{:14s}: Train: {:6d} Val: {:4d}'.format('Edges2shoes', len(e2s_train), len(e2s_val))\n",
    "print '{:14s}: Train: {:6d} Val: {:4d}'.format('Edges2handbags', len(e2h_train), len(e2h_val))\n",
    "print '{:14s}: Train: {:6d} Val: {:4d}'.format('Facades', len(fac_train), len(fac_val))\n",
    "print '{:14s}: Train: {:6d} Val: {:4d}'.format('Maps', len(map_train), len(map_val))"
   ]
  },
  {
   "cell_type": "markdown",
   "metadata": {},
   "source": [
    "## Display training images from different datasets"
   ]
  },
  {
   "cell_type": "code",
   "execution_count": 1,
   "metadata": {},
   "outputs": [],
   "source": [
    "def display_samples():\n",
    "    # edges2shoes\n",
    "    io.imshow(os.path.join(e2s, 'train', e2s_train[np.random.randint(0, e2s_tl)]))\n",
    "    # edges2handbags\n",
    "    io.imshow(os.path.join(e2h, 'train', e2h_train[np.random.randint(0, e2h_tl)]))\n",
    "    # facades\n",
    "    io.imshow(os.path.join(facades, 'train', fac_train[idx]))\n",
    "    # edges2shoes\n",
    "    io.imshow(os.path.join(maps, 'train', map_train[np.random.randint(0, map_tl)]))\n",
    "dis"
   ]
  }
 ],
 "metadata": {
  "kernelspec": {
   "display_name": "Python 2",
   "language": "python",
   "name": "python2"
  },
  "language_info": {
   "codemirror_mode": {
    "name": "ipython",
    "version": 2
   },
   "file_extension": ".py",
   "mimetype": "text/x-python",
   "name": "python",
   "nbconvert_exporter": "python",
   "pygments_lexer": "ipython2",
   "version": "2.7.12"
  }
 },
 "nbformat": 4,
 "nbformat_minor": 2
}
